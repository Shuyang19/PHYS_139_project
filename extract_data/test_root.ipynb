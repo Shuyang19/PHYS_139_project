{
 "cells": [
  {
   "cell_type": "markdown",
   "metadata": {},
   "source": [
    "## label extraction"
   ]
  },
  {
   "cell_type": "code",
   "execution_count": 5,
   "metadata": {},
   "outputs": [],
   "source": [
    "import numpy as np\n",
    "import uproot\n",
    "\n",
    "def extract_label(feature,file_path, tree_name):\n",
    "    \"\"\"\n",
    "    Extracts the fj_label branch from the given ROOT file and tree name.\n",
    "    \n",
    "    Parameters:\n",
    "    - file_path: Path to the ROOT file.\n",
    "    - tree_name: Name of the tree containing the fj_label branch.\n",
    "    \n",
    "    Returns:\n",
    "    - label: array of type awkward.highlevel.Array (free to convert to np.array) or None if not found\n",
    "    \"\"\"\n",
    "    # Open the ROOT file\n",
    "    file = uproot.open(file_path)\n",
    "    \n",
    "    # Get the tree object\n",
    "    tree = file[tree_name]\n",
    "    \n",
    "    # Load only the necessary branches\n",
    "    try:\n",
    "        branches = tree.arrays([feature])\n",
    "        label = branches[feature]\n",
    "        # return np.array(label)\n",
    "        return (label)\n",
    "    except KeyError:\n",
    "        print(\"fj_label branch not found in the tree.\")\n",
    "        return None\n",
    "\n"
   ]
  },
  {
   "cell_type": "markdown",
   "metadata": {},
   "source": [
    "### example"
   ]
  },
  {
   "cell_type": "code",
   "execution_count": 4,
   "metadata": {},
   "outputs": [
    {
     "name": "stdout",
     "output_type": "stream",
     "text": [
      "<class 'awkward.highlevel.Array'>\n",
      "[55, 55, 55, 55, 54, 52, 55, 55, 55, ..., 55, 41, 55, 55, 41, 55, 55, 41, 55]\n"
     ]
    }
   ],
   "source": [
    "# Example usage\n",
    "file_path = \"ntuple_merged_10.root\"\n",
    "tree_name = \"deepntuplizer/tree;42\" \n",
    "label = \"fj_label\"\n",
    "fj_label = extract_label(label,file_path, tree_name)\n",
    "print(type(fj_label))\n",
    "print(fj_label)"
   ]
  },
  {
   "cell_type": "code",
   "execution_count": 6,
   "metadata": {},
   "outputs": [],
   "source": [
    "# import uproot\n",
    "# import numpy as np\n",
    "\n",
    "# def extract_branches(file_path, tree_name, branch_names):\n",
    "#     \"\"\"\n",
    "#     Extracts the specified branches from the given ROOT file and tree name, and combines them into a single array.\n",
    "    \n",
    "#     Parameters:\n",
    "#     - file_path: Path to the ROOT file.\n",
    "#     - tree_name: Name of the tree containing the branches.\n",
    "#     - branch_names: List of branch names to extract.\n",
    "    \n",
    "#     Returns:\n",
    "#     - combined_array: Numpy array containing the values of the specified branches combined into one array, or None if not found.\n",
    "#     \"\"\"\n",
    "#     # Open the ROOT file\n",
    "#     file = uproot.open(file_path)\n",
    "    \n",
    "#     # Get the tree object\n",
    "#     tree = file[tree_name]\n",
    "    \n",
    "#     # Load only the necessary branches\n",
    "#     try:\n",
    "#         branches = tree.arrays(branch_names)\n",
    "#         combined_array = np.column_stack([branches[name] for name in branch_names])\n",
    "#         return np.array(combined_array)\n",
    "#     except KeyError:\n",
    "#         print(\"One or more branches not found in the tree.\")\n",
    "#         return None\n",
    "\n",
    "# # Example usage\n",
    "# file_path = \"ntuple_merged_10.root\"\n",
    "# tree_name = \"deepntuplizer/tree;42\"  # Use the correct tree name from the output\n",
    "# branch_names = [\"fj_label\", \"Delta_gen_pt\", \"jet_pt\"]  # Specify the names of the branches you want to extract\n",
    "# combined_array = extract_branches(file_path, tree_name, branch_names)\n",
    "# if combined_array is not None:\n",
    "#     print( combined_array)\n",
    "#     print(\"Shape of combined array:\", combined_array.shape)"
   ]
  },
  {
   "cell_type": "markdown",
   "metadata": {},
   "source": [
    "## Labels"
   ]
  },
  {
   "cell_type": "code",
   "execution_count": 7,
   "metadata": {},
   "outputs": [],
   "source": [
    "params_1 = ['pfcand_ptrel',\n",
    "          'pfcand_erel',\n",
    "          'pfcand_phirel',\n",
    "          'pfcand_etarel',\n",
    "          'pfcand_deltaR',\n",
    "          'pfcand_puppiw',\n",
    "          'pfcand_drminsv',\n",
    "          'pfcand_drsubjet1',\n",
    "          'pfcand_drsubjet2',\n",
    "          'pfcand_hcalFrac'\n",
    "         ]\n",
    "\n",
    "params_2 = ['track_ptrel',     \n",
    "          'track_erel',     \n",
    "          'track_phirel',     \n",
    "          'track_etarel',     \n",
    "          'track_deltaR',\n",
    "          'track_drminsv',     \n",
    "          'track_drsubjet1',     \n",
    "          'track_drsubjet2',\n",
    "          'track_dz',     \n",
    "          'track_dzsig',     \n",
    "          'track_dxy',     \n",
    "          'track_dxysig',     \n",
    "          'track_normchi2',     \n",
    "          'track_quality',     \n",
    "          'track_dptdpt',     \n",
    "          'track_detadeta',     \n",
    "          'track_dphidphi',     \n",
    "          'track_dxydxy',     \n",
    "          'track_dzdz',     \n",
    "          'track_dxydz',     \n",
    "          'track_dphidxy',     \n",
    "          'track_dlambdadz',     \n",
    "          'trackBTag_EtaRel',     \n",
    "          'trackBTag_PtRatio',     \n",
    "          'trackBTag_PParRatio',     \n",
    "          'trackBTag_Sip2dVal',     \n",
    "          'trackBTag_Sip2dSig',     \n",
    "          'trackBTag_Sip3dVal',     \n",
    "          'trackBTag_Sip3dSig',     \n",
    "          'trackBTag_JetDistVal'\n",
    "         ]\n",
    "\n",
    "params_3 = ['sv_ptrel',\n",
    "          'sv_erel',\n",
    "          'sv_phirel',\n",
    "          'sv_etarel',\n",
    "          'sv_deltaR',\n",
    "          'sv_pt',\n",
    "          'sv_mass',\n",
    "          'sv_ntracks',\n",
    "          'sv_normchi2',\n",
    "          'sv_dxy',\n",
    "          'sv_dxysig',\n",
    "          'sv_d3d',\n",
    "          'sv_d3dsig',\n",
    "          'sv_costhetasvpv'\n",
    "         ]"
   ]
  },
  {
   "cell_type": "markdown",
   "metadata": {},
   "source": [
    "## feature vector extraction (without dummy entries)"
   ]
  },
  {
   "cell_type": "code",
   "execution_count": 3,
   "metadata": {},
   "outputs": [],
   "source": [
    "import uproot\n",
    "import awkward as ak\n",
    "\n",
    "def extract_branches(file_path, tree_name, branch_names):\n",
    "    \n",
    "    # Open the ROOT file\n",
    "    file = uproot.open(file_path)\n",
    "    \n",
    "    # Get the tree object\n",
    "    tree = file[tree_name]\n",
    "    \n",
    "    # Initialize an empty dictionary to store the arrays\n",
    "    arrays = {}\n",
    "    \n",
    "    # Iterate over the branch names and extract the jagged arrays\n",
    "    for name in branch_names:\n",
    "        # Extract the jagged array for the current branch name\n",
    "        arr = tree[name].array()\n",
    "        # Store the jagged array in the dictionary\n",
    "        arrays[name] = arr\n",
    "        \n",
    "    # Combine the arrays by column\n",
    "    combined_list = [[arrays[name] for name in branch_names] for arrays in ak.zip(arrays)]\n",
    "    \n",
    "    # Print the combined list\n",
    "    \n",
    "    \n",
    "    # Return the combined list\n",
    "    return combined_list\n",
    "\n",
    "\n"
   ]
  },
  {
   "cell_type": "markdown",
   "metadata": {},
   "source": [
    "### Example"
   ]
  },
  {
   "cell_type": "code",
   "execution_count": 5,
   "metadata": {},
   "outputs": [],
   "source": [
    "file_path = \"ntuple_merged_10.root\"\n",
    "tree_name = \"deepntuplizer/tree;42\"\n",
    "branch_names = ['pfcand_ptrel',\n",
    "          'pfcand_erel']\n",
    "combined_list=extract_branches(file_path, tree_name, branch_names)\n",
    "# print(\"Combined list:\", combined_list)\n"
   ]
  },
  {
   "cell_type": "code",
   "execution_count": 7,
   "metadata": {},
   "outputs": [
    {
     "name": "stdout",
     "output_type": "stream",
     "text": [
      "[<Array [0.25, 0.142, 0.0723, ..., 0.00383, 0.00381] type='38 * float32'>, <Array [0.24, 0.137, 0.0697, ..., 0.00389, 0.00245] type='38 * float32'>]\n"
     ]
    }
   ],
   "source": [
    "print(combined_list[0])"
   ]
  },
  {
   "cell_type": "code",
   "execution_count": 3,
   "metadata": {},
   "outputs": [
    {
     "name": "stdout",
     "output_type": "stream",
     "text": [
      "pfcand_ptrel [[0.25, 0.142, 0.0723, 0.0562, ..., 0.00392, 0.00387, 0.00383, 0.00381], ...]\n",
      "pfcand_erel [[0.24, 0.137, 0.0697, 0.0547, ..., 0.0048, 0.00308, 0.00389, 0.00245], ...]\n"
     ]
    }
   ],
   "source": [
    "# check\n",
    "file_path = \"ntuple_merged_10.root\"\n",
    "tree_name = \"deepntuplizer/tree;42\" \n",
    "label1 = \"pfcand_ptrel\"\n",
    "label2 = \"pfcand_erel\"\n",
    "pfcand_ptrel = extract_label(label1,file_path, tree_name)\n",
    "pfcand_erel = extract_label(label2,file_path, tree_name)\n",
    "print('pfcand_ptrel',pfcand_ptrel)\n",
    "print('pfcand_erel',pfcand_erel)\n"
   ]
  },
  {
   "cell_type": "code",
   "execution_count": null,
   "metadata": {},
   "outputs": [],
   "source": []
  }
 ],
 "metadata": {
  "kernelspec": {
   "display_name": "Python 3",
   "language": "python",
   "name": "python3"
  },
  "language_info": {
   "codemirror_mode": {
    "name": "ipython",
    "version": 3
   },
   "file_extension": ".py",
   "mimetype": "text/x-python",
   "name": "python",
   "nbconvert_exporter": "python",
   "pygments_lexer": "ipython3",
   "version": "3.11.4"
  }
 },
 "nbformat": 4,
 "nbformat_minor": 2
}
