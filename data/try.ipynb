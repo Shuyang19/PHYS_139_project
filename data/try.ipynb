{
 "cells": [
  {
   "cell_type": "code",
   "execution_count": null,
   "metadata": {},
   "outputs": [],
   "source": [
    "import h5py\n",
    "\n",
    "# Open the HDF5 file\n",
    "filename = \"ntuple_merged_0.h5\"\n",
    "h5file = h5py.File(filename, 'r')\n",
    "\n",
    "# List all items in the HDF5 file\n",
    "print(\"Items in the HDF5 file:\")\n",
    "for item in h5file:\n",
    "    print(item)\n",
    "\n",
    "# Access a dataset if it exists\n",
    "dataset_name = \"sv_pt\"\n",
    "if dataset_name in h5file:\n",
    "    dataset = h5file[dataset_name]\n",
    "    print(\"Dataset shape:\", dataset.shape)\n",
    "else:\n",
    "    print(f\"Dataset '{dataset_name}' does not exist in the file.\")\n",
    "\n",
    "# Don't forget to close the file when you're done\n",
    "h5file.close()"
   ]
  }
 ],
 "metadata": {
  "language_info": {
   "name": "python"
  }
 },
 "nbformat": 4,
 "nbformat_minor": 2
}
